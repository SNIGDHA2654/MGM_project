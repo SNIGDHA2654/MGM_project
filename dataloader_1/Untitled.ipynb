{
 "cells": [
  {
   "cell_type": "code",
   "execution_count": 1,
   "id": "64329fce",
   "metadata": {},
   "outputs": [
    {
     "name": "stdout",
     "output_type": "stream",
     "text": [
      "No CUDA runtime is found, using CUDA_HOME='C:\\Program Files\\NVIDIA GPU Computing Toolkit\\CUDA\\v11.2'\n"
     ]
    },
    {
     "name": "stderr",
     "output_type": "stream",
     "text": [
      "C:\\Users\\AGARW\\anaconda3\\envs\\mypy\\lib\\site-packages\\torch\\utils\\cpp_extension.py:316: UserWarning: Error checking compiler version for cl: [WinError 2] The system cannot find the file specified\n",
      "  warnings.warn(f'Error checking compiler version for {compiler}: {error}')\n",
      "Traceback (most recent call last):\n",
      "  File \"C:\\Users\\AGARW\\OneDrive\\Documents\\GitHub\\MGM_project\\semanticGAN\\train_seg_gan.py\", line 38, in <module>\n",
      "    from models.stylegan2_seg import GeneratorSeg, Discriminator, MultiscaleDiscriminator, GANLoss\n",
      "  File \"C:\\Users\\AGARW\\OneDrive\\Documents\\GitHub\\MGM_project\\dataloader_1\\..\\models\\stylegan2_seg.py\", line 11, in <module>\n",
      "    from models.utils import *\n",
      "  File \"C:\\Users\\AGARW\\OneDrive\\Documents\\GitHub\\MGM_project\\dataloader_1\\..\\models\\utils.py\", line 12, in <module>\n",
      "    from models.op import FusedLeakyReLU, fused_leaky_relu, upfirdn2d\n",
      "  File \"C:\\Users\\AGARW\\OneDrive\\Documents\\GitHub\\MGM_project\\dataloader_1\\..\\models\\op\\__init__.py\", line 1, in <module>\n",
      "    from .fused_act import FusedLeakyReLU, fused_leaky_relu\n",
      "  File \"C:\\Users\\AGARW\\OneDrive\\Documents\\GitHub\\MGM_project\\dataloader_1\\..\\models\\op\\fused_act.py\", line 17, in <module>\n",
      "    fused = load(\n",
      "  File \"C:\\Users\\AGARW\\anaconda3\\envs\\mypy\\lib\\site-packages\\torch\\utils\\cpp_extension.py\", line 1124, in load\n",
      "    return _jit_compile(\n",
      "  File \"C:\\Users\\AGARW\\anaconda3\\envs\\mypy\\lib\\site-packages\\torch\\utils\\cpp_extension.py\", line 1337, in _jit_compile\n",
      "    _write_ninja_file_and_build_library(\n",
      "  File \"C:\\Users\\AGARW\\anaconda3\\envs\\mypy\\lib\\site-packages\\torch\\utils\\cpp_extension.py\", line 1436, in _write_ninja_file_and_build_library\n",
      "    _write_ninja_file_to_build_library(\n",
      "  File \"C:\\Users\\AGARW\\anaconda3\\envs\\mypy\\lib\\site-packages\\torch\\utils\\cpp_extension.py\", line 1834, in _write_ninja_file_to_build_library\n",
      "    cuda_flags = common_cflags + COMMON_NVCC_FLAGS + _get_cuda_arch_flags()\n",
      "  File \"C:\\Users\\AGARW\\anaconda3\\envs\\mypy\\lib\\site-packages\\torch\\utils\\cpp_extension.py\", line 1606, in _get_cuda_arch_flags\n",
      "    arch_list[-1] += '+PTX'\n",
      "IndexError: list index out of range\n"
     ]
    }
   ],
   "source": [
    "!python C:/Users/AGARW/OneDrive/Documents/GitHub\\MGM_project/semanticGAN/train_seg_gan.py --img_dataset 'C:/Users/AGARW/Desktop/CelebAMask-HQ/CelebAMask-HQr' --seg_dataset 'C:/Users/AGARW/Desktop/CelebAMask-HQ/CelebAMask-HQr' --inception 'C:/Users/AGARW/OneDrive/Documents/GitHub\\MGM_project/output.pkl' --seg_name celeba-mask --checkpoint_dir'C:/Users/AGARW/OneDrive/Documents/GitHub\\MGM_project/chekpoint'"
   ]
  },
  {
   "cell_type": "code",
   "execution_count": null,
   "id": "0ca6e772",
   "metadata": {},
   "outputs": [],
   "source": []
  }
 ],
 "metadata": {
  "kernelspec": {
   "display_name": "torch-gpu",
   "language": "python",
   "name": "torch-gpu"
  },
  "language_info": {
   "codemirror_mode": {
    "name": "ipython",
    "version": 3
   },
   "file_extension": ".py",
   "mimetype": "text/x-python",
   "name": "python",
   "nbconvert_exporter": "python",
   "pygments_lexer": "ipython3",
   "version": "3.6.15"
  }
 },
 "nbformat": 4,
 "nbformat_minor": 5
}
